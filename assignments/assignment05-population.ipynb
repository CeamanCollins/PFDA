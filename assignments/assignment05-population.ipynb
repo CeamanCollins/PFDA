{
 "cells": [
  {
   "cell_type": "markdown",
   "id": "a1763cd9",
   "metadata": {},
   "source": [
    "# Part 1"
   ]
  },
  {
   "cell_type": "code",
   "execution_count": 1,
   "id": "ecb5e747",
   "metadata": {},
   "outputs": [],
   "source": [
    "import pandas as pd\n",
    "import numpy as np"
   ]
  },
  {
   "cell_type": "code",
   "execution_count": 2,
   "id": "909506e3",
   "metadata": {},
   "outputs": [
    {
     "data": {
      "text/html": [
       "<div>\n",
       "<style scoped>\n",
       "    .dataframe tbody tr th:only-of-type {\n",
       "        vertical-align: middle;\n",
       "    }\n",
       "\n",
       "    .dataframe tbody tr th {\n",
       "        vertical-align: top;\n",
       "    }\n",
       "\n",
       "    .dataframe thead th {\n",
       "        text-align: right;\n",
       "    }\n",
       "</style>\n",
       "<table border=\"1\" class=\"dataframe\">\n",
       "  <thead>\n",
       "    <tr style=\"text-align: right;\">\n",
       "      <th></th>\n",
       "      <th>STATISTIC</th>\n",
       "      <th>Statistic Label</th>\n",
       "      <th>TLIST(A1)</th>\n",
       "      <th>CensusYear</th>\n",
       "      <th>C02199V02655</th>\n",
       "      <th>Sex</th>\n",
       "      <th>C02076V03371</th>\n",
       "      <th>Single Year of Age</th>\n",
       "      <th>C03789V04537</th>\n",
       "      <th>Administrative Counties</th>\n",
       "      <th>UNIT</th>\n",
       "      <th>VALUE</th>\n",
       "    </tr>\n",
       "  </thead>\n",
       "  <tbody>\n",
       "    <tr>\n",
       "      <th>0</th>\n",
       "      <td>FY006AC01</td>\n",
       "      <td>Population</td>\n",
       "      <td>2022</td>\n",
       "      <td>2022</td>\n",
       "      <td>-</td>\n",
       "      <td>Both sexes</td>\n",
       "      <td>-</td>\n",
       "      <td>All ages</td>\n",
       "      <td>IE0</td>\n",
       "      <td>Ireland</td>\n",
       "      <td>Number</td>\n",
       "      <td>5149139</td>\n",
       "    </tr>\n",
       "    <tr>\n",
       "      <th>1</th>\n",
       "      <td>FY006AC01</td>\n",
       "      <td>Population</td>\n",
       "      <td>2022</td>\n",
       "      <td>2022</td>\n",
       "      <td>-</td>\n",
       "      <td>Both sexes</td>\n",
       "      <td>-</td>\n",
       "      <td>All ages</td>\n",
       "      <td>2ae19629-1492-13a3-e055-000000000001</td>\n",
       "      <td>Carlow County Council</td>\n",
       "      <td>Number</td>\n",
       "      <td>61968</td>\n",
       "    </tr>\n",
       "    <tr>\n",
       "      <th>2</th>\n",
       "      <td>FY006AC01</td>\n",
       "      <td>Population</td>\n",
       "      <td>2022</td>\n",
       "      <td>2022</td>\n",
       "      <td>-</td>\n",
       "      <td>Both sexes</td>\n",
       "      <td>-</td>\n",
       "      <td>All ages</td>\n",
       "      <td>2ae19629-1433-13a3-e055-000000000001</td>\n",
       "      <td>Dublin City Council</td>\n",
       "      <td>Number</td>\n",
       "      <td>592713</td>\n",
       "    </tr>\n",
       "    <tr>\n",
       "      <th>3</th>\n",
       "      <td>FY006AC01</td>\n",
       "      <td>Population</td>\n",
       "      <td>2022</td>\n",
       "      <td>2022</td>\n",
       "      <td>-</td>\n",
       "      <td>Both sexes</td>\n",
       "      <td>-</td>\n",
       "      <td>All ages</td>\n",
       "      <td>2ae19629-149f-13a3-e055-000000000001</td>\n",
       "      <td>Dún Laoghaire Rathdown County Council</td>\n",
       "      <td>Number</td>\n",
       "      <td>233860</td>\n",
       "    </tr>\n",
       "    <tr>\n",
       "      <th>4</th>\n",
       "      <td>FY006AC01</td>\n",
       "      <td>Population</td>\n",
       "      <td>2022</td>\n",
       "      <td>2022</td>\n",
       "      <td>-</td>\n",
       "      <td>Both sexes</td>\n",
       "      <td>-</td>\n",
       "      <td>All ages</td>\n",
       "      <td>2ae19629-14a0-13a3-e055-000000000001</td>\n",
       "      <td>Fingal County Council</td>\n",
       "      <td>Number</td>\n",
       "      <td>330506</td>\n",
       "    </tr>\n",
       "  </tbody>\n",
       "</table>\n",
       "</div>"
      ],
      "text/plain": [
       "   STATISTIC Statistic Label  TLIST(A1)  CensusYear C02199V02655         Sex  \\\n",
       "0  FY006AC01      Population       2022        2022            -  Both sexes   \n",
       "1  FY006AC01      Population       2022        2022            -  Both sexes   \n",
       "2  FY006AC01      Population       2022        2022            -  Both sexes   \n",
       "3  FY006AC01      Population       2022        2022            -  Both sexes   \n",
       "4  FY006AC01      Population       2022        2022            -  Both sexes   \n",
       "\n",
       "  C02076V03371 Single Year of Age                          C03789V04537  \\\n",
       "0            -           All ages                                   IE0   \n",
       "1            -           All ages  2ae19629-1492-13a3-e055-000000000001   \n",
       "2            -           All ages  2ae19629-1433-13a3-e055-000000000001   \n",
       "3            -           All ages  2ae19629-149f-13a3-e055-000000000001   \n",
       "4            -           All ages  2ae19629-14a0-13a3-e055-000000000001   \n",
       "\n",
       "                 Administrative Counties    UNIT    VALUE  \n",
       "0                                Ireland  Number  5149139  \n",
       "1                  Carlow County Council  Number    61968  \n",
       "2                    Dublin City Council  Number   592713  \n",
       "3  Dún Laoghaire Rathdown County Council  Number   233860  \n",
       "4                  Fingal County Council  Number   330506  "
      ]
     },
     "execution_count": 2,
     "metadata": {},
     "output_type": "execute_result"
    }
   ],
   "source": [
    "url = \"https://ws.cso.ie/public/api.restful/PxStat.Data.Cube_API.ReadDataset/FY006A/CSV/1.0/en\"\n",
    "df = pd.read_csv(url)\n",
    "df.head()"
   ]
  },
  {
   "cell_type": "code",
   "execution_count": 3,
   "id": "8058c533",
   "metadata": {},
   "outputs": [
    {
     "data": {
      "text/plain": [
       "Index(['STATISTIC', 'Statistic Label', 'TLIST(A1)', 'CensusYear',\n",
       "       'C02199V02655', 'Sex', 'C02076V03371', 'Single Year of Age',\n",
       "       'C03789V04537', 'Administrative Counties', 'UNIT', 'VALUE'],\n",
       "      dtype='object')"
      ]
     },
     "execution_count": 3,
     "metadata": {},
     "output_type": "execute_result"
    }
   ],
   "source": [
    "df.columns"
   ]
  },
  {
   "cell_type": "code",
   "execution_count": 4,
   "id": "c2413d33",
   "metadata": {},
   "outputs": [],
   "source": [
    "drop_columns = ['STATISTIC', 'Statistic Label', 'TLIST(A1)', 'CensusYear',\n",
    "                'C02199V02655', 'C02076V03371',\n",
    "                'C03789V04537', 'UNIT']"
   ]
  },
  {
   "cell_type": "code",
   "execution_count": 5,
   "id": "139a1ebb",
   "metadata": {},
   "outputs": [
    {
     "data": {
      "text/html": [
       "<div>\n",
       "<style scoped>\n",
       "    .dataframe tbody tr th:only-of-type {\n",
       "        vertical-align: middle;\n",
       "    }\n",
       "\n",
       "    .dataframe tbody tr th {\n",
       "        vertical-align: top;\n",
       "    }\n",
       "\n",
       "    .dataframe thead th {\n",
       "        text-align: right;\n",
       "    }\n",
       "</style>\n",
       "<table border=\"1\" class=\"dataframe\">\n",
       "  <thead>\n",
       "    <tr style=\"text-align: right;\">\n",
       "      <th></th>\n",
       "      <th>Sex</th>\n",
       "      <th>Single Year of Age</th>\n",
       "      <th>Administrative Counties</th>\n",
       "      <th>VALUE</th>\n",
       "    </tr>\n",
       "  </thead>\n",
       "  <tbody>\n",
       "    <tr>\n",
       "      <th>0</th>\n",
       "      <td>Both sexes</td>\n",
       "      <td>All ages</td>\n",
       "      <td>Ireland</td>\n",
       "      <td>5149139</td>\n",
       "    </tr>\n",
       "    <tr>\n",
       "      <th>1</th>\n",
       "      <td>Both sexes</td>\n",
       "      <td>All ages</td>\n",
       "      <td>Carlow County Council</td>\n",
       "      <td>61968</td>\n",
       "    </tr>\n",
       "    <tr>\n",
       "      <th>2</th>\n",
       "      <td>Both sexes</td>\n",
       "      <td>All ages</td>\n",
       "      <td>Dublin City Council</td>\n",
       "      <td>592713</td>\n",
       "    </tr>\n",
       "    <tr>\n",
       "      <th>3</th>\n",
       "      <td>Both sexes</td>\n",
       "      <td>All ages</td>\n",
       "      <td>Dún Laoghaire Rathdown County Council</td>\n",
       "      <td>233860</td>\n",
       "    </tr>\n",
       "    <tr>\n",
       "      <th>4</th>\n",
       "      <td>Both sexes</td>\n",
       "      <td>All ages</td>\n",
       "      <td>Fingal County Council</td>\n",
       "      <td>330506</td>\n",
       "    </tr>\n",
       "  </tbody>\n",
       "</table>\n",
       "</div>"
      ],
      "text/plain": [
       "          Sex Single Year of Age                Administrative Counties  \\\n",
       "0  Both sexes           All ages                                Ireland   \n",
       "1  Both sexes           All ages                  Carlow County Council   \n",
       "2  Both sexes           All ages                    Dublin City Council   \n",
       "3  Both sexes           All ages  Dún Laoghaire Rathdown County Council   \n",
       "4  Both sexes           All ages                  Fingal County Council   \n",
       "\n",
       "     VALUE  \n",
       "0  5149139  \n",
       "1    61968  \n",
       "2   592713  \n",
       "3   233860  \n",
       "4   330506  "
      ]
     },
     "execution_count": 5,
     "metadata": {},
     "output_type": "execute_result"
    }
   ],
   "source": [
    "df.drop(columns=drop_columns, inplace=True)\n",
    "df.head()"
   ]
  },
  {
   "cell_type": "code",
   "execution_count": 6,
   "id": "f282cb2b",
   "metadata": {},
   "outputs": [
    {
     "data": {
      "text/html": [
       "<div>\n",
       "<style scoped>\n",
       "    .dataframe tbody tr th:only-of-type {\n",
       "        vertical-align: middle;\n",
       "    }\n",
       "\n",
       "    .dataframe tbody tr th {\n",
       "        vertical-align: top;\n",
       "    }\n",
       "\n",
       "    .dataframe thead th {\n",
       "        text-align: right;\n",
       "    }\n",
       "</style>\n",
       "<table border=\"1\" class=\"dataframe\">\n",
       "  <thead>\n",
       "    <tr style=\"text-align: right;\">\n",
       "      <th></th>\n",
       "      <th>Sex</th>\n",
       "      <th>Single Year of Age</th>\n",
       "      <th>VALUE</th>\n",
       "    </tr>\n",
       "  </thead>\n",
       "  <tbody>\n",
       "    <tr>\n",
       "      <th>0</th>\n",
       "      <td>Both sexes</td>\n",
       "      <td>All ages</td>\n",
       "      <td>5149139</td>\n",
       "    </tr>\n",
       "    <tr>\n",
       "      <th>32</th>\n",
       "      <td>Both sexes</td>\n",
       "      <td>Under 1 year</td>\n",
       "      <td>57796</td>\n",
       "    </tr>\n",
       "    <tr>\n",
       "      <th>64</th>\n",
       "      <td>Both sexes</td>\n",
       "      <td>1 year</td>\n",
       "      <td>56420</td>\n",
       "    </tr>\n",
       "    <tr>\n",
       "      <th>96</th>\n",
       "      <td>Both sexes</td>\n",
       "      <td>2 years</td>\n",
       "      <td>59210</td>\n",
       "    </tr>\n",
       "    <tr>\n",
       "      <th>128</th>\n",
       "      <td>Both sexes</td>\n",
       "      <td>3 years</td>\n",
       "      <td>60484</td>\n",
       "    </tr>\n",
       "  </tbody>\n",
       "</table>\n",
       "</div>"
      ],
      "text/plain": [
       "            Sex Single Year of Age    VALUE\n",
       "0    Both sexes           All ages  5149139\n",
       "32   Both sexes       Under 1 year    57796\n",
       "64   Both sexes             1 year    56420\n",
       "96   Both sexes            2 years    59210\n",
       "128  Both sexes            3 years    60484"
      ]
     },
     "execution_count": 6,
     "metadata": {},
     "output_type": "execute_result"
    }
   ],
   "source": [
    "df = df[df['Administrative Counties'] == 'Ireland']\n",
    "df.drop(columns=['Administrative Counties'], inplace=True)\n",
    "df.head()"
   ]
  },
  {
   "cell_type": "code",
   "execution_count": 7,
   "id": "fd2255b5",
   "metadata": {},
   "outputs": [
    {
     "data": {
      "text/html": [
       "<div>\n",
       "<style scoped>\n",
       "    .dataframe tbody tr th:only-of-type {\n",
       "        vertical-align: middle;\n",
       "    }\n",
       "\n",
       "    .dataframe tbody tr th {\n",
       "        vertical-align: top;\n",
       "    }\n",
       "\n",
       "    .dataframe thead th {\n",
       "        text-align: right;\n",
       "    }\n",
       "</style>\n",
       "<table border=\"1\" class=\"dataframe\">\n",
       "  <thead>\n",
       "    <tr style=\"text-align: right;\">\n",
       "      <th></th>\n",
       "      <th>Sex</th>\n",
       "      <th>Single Year of Age</th>\n",
       "      <th>VALUE</th>\n",
       "    </tr>\n",
       "  </thead>\n",
       "  <tbody>\n",
       "    <tr>\n",
       "      <th>3296</th>\n",
       "      <td>Male</td>\n",
       "      <td>Under 1 year</td>\n",
       "      <td>29610</td>\n",
       "    </tr>\n",
       "    <tr>\n",
       "      <th>3328</th>\n",
       "      <td>Male</td>\n",
       "      <td>1 year</td>\n",
       "      <td>28875</td>\n",
       "    </tr>\n",
       "    <tr>\n",
       "      <th>3360</th>\n",
       "      <td>Male</td>\n",
       "      <td>2 years</td>\n",
       "      <td>30236</td>\n",
       "    </tr>\n",
       "    <tr>\n",
       "      <th>3392</th>\n",
       "      <td>Male</td>\n",
       "      <td>3 years</td>\n",
       "      <td>31001</td>\n",
       "    </tr>\n",
       "    <tr>\n",
       "      <th>3424</th>\n",
       "      <td>Male</td>\n",
       "      <td>4 years</td>\n",
       "      <td>31686</td>\n",
       "    </tr>\n",
       "  </tbody>\n",
       "</table>\n",
       "</div>"
      ],
      "text/plain": [
       "       Sex Single Year of Age  VALUE\n",
       "3296  Male       Under 1 year  29610\n",
       "3328  Male             1 year  28875\n",
       "3360  Male            2 years  30236\n",
       "3392  Male            3 years  31001\n",
       "3424  Male            4 years  31686"
      ]
     },
     "execution_count": 7,
     "metadata": {},
     "output_type": "execute_result"
    }
   ],
   "source": [
    "df = df[df['Sex'] != 'Both sexes']\n",
    "df = df[df['Single Year of Age'] != 'All ages']\n",
    "df.head()"
   ]
  },
  {
   "cell_type": "code",
   "execution_count": 8,
   "id": "2b90d530",
   "metadata": {},
   "outputs": [
    {
     "name": "stdout",
     "output_type": "stream",
     "text": [
      "<class 'pandas.core.frame.DataFrame'>\n",
      "Index: 202 entries, 3296 to 9760\n",
      "Data columns (total 3 columns):\n",
      " #   Column              Non-Null Count  Dtype \n",
      "---  ------              --------------  ----- \n",
      " 0   Sex                 202 non-null    object\n",
      " 1   Single Year of Age  202 non-null    int64 \n",
      " 2   VALUE               202 non-null    int64 \n",
      "dtypes: int64(2), object(1)\n",
      "memory usage: 6.3+ KB\n"
     ]
    }
   ],
   "source": [
    "df['Single Year of Age'] = df['Single Year of Age'].replace('Under 1 year', '0', regex=True)\n",
    "df['Single Year of Age'] = df['Single Year of Age'].str.replace('\\\\D', '', regex=True)\n",
    "df['Single Year of Age'] = pd.to_numeric(df['Single Year of Age'])\n",
    "df['VALUE'] = pd.to_numeric(df['VALUE'])\n",
    "df['Single Year of Age'] = pd.to_numeric(df['Single Year of Age'])\n",
    "df.info()\n"
   ]
  },
  {
   "cell_type": "code",
   "execution_count": 9,
   "id": "28b4638d",
   "metadata": {},
   "outputs": [
    {
     "data": {
      "text/html": [
       "<div>\n",
       "<style scoped>\n",
       "    .dataframe tbody tr th:only-of-type {\n",
       "        vertical-align: middle;\n",
       "    }\n",
       "\n",
       "    .dataframe tbody tr th {\n",
       "        vertical-align: top;\n",
       "    }\n",
       "\n",
       "    .dataframe thead th {\n",
       "        text-align: right;\n",
       "    }\n",
       "</style>\n",
       "<table border=\"1\" class=\"dataframe\">\n",
       "  <thead>\n",
       "    <tr style=\"text-align: right;\">\n",
       "      <th></th>\n",
       "      <th>Sex</th>\n",
       "      <th>Single Year of Age</th>\n",
       "      <th>VALUE</th>\n",
       "    </tr>\n",
       "  </thead>\n",
       "  <tbody>\n",
       "    <tr>\n",
       "      <th>3296</th>\n",
       "      <td>Male</td>\n",
       "      <td>0</td>\n",
       "      <td>29610</td>\n",
       "    </tr>\n",
       "    <tr>\n",
       "      <th>3328</th>\n",
       "      <td>Male</td>\n",
       "      <td>1</td>\n",
       "      <td>28875</td>\n",
       "    </tr>\n",
       "    <tr>\n",
       "      <th>3360</th>\n",
       "      <td>Male</td>\n",
       "      <td>2</td>\n",
       "      <td>30236</td>\n",
       "    </tr>\n",
       "    <tr>\n",
       "      <th>3392</th>\n",
       "      <td>Male</td>\n",
       "      <td>3</td>\n",
       "      <td>31001</td>\n",
       "    </tr>\n",
       "    <tr>\n",
       "      <th>3424</th>\n",
       "      <td>Male</td>\n",
       "      <td>4</td>\n",
       "      <td>31686</td>\n",
       "    </tr>\n",
       "    <tr>\n",
       "      <th>...</th>\n",
       "      <td>...</td>\n",
       "      <td>...</td>\n",
       "      <td>...</td>\n",
       "    </tr>\n",
       "    <tr>\n",
       "      <th>9632</th>\n",
       "      <td>Female</td>\n",
       "      <td>96</td>\n",
       "      <td>956</td>\n",
       "    </tr>\n",
       "    <tr>\n",
       "      <th>9664</th>\n",
       "      <td>Female</td>\n",
       "      <td>97</td>\n",
       "      <td>732</td>\n",
       "    </tr>\n",
       "    <tr>\n",
       "      <th>9696</th>\n",
       "      <td>Female</td>\n",
       "      <td>98</td>\n",
       "      <td>492</td>\n",
       "    </tr>\n",
       "    <tr>\n",
       "      <th>9728</th>\n",
       "      <td>Female</td>\n",
       "      <td>99</td>\n",
       "      <td>336</td>\n",
       "    </tr>\n",
       "    <tr>\n",
       "      <th>9760</th>\n",
       "      <td>Female</td>\n",
       "      <td>100</td>\n",
       "      <td>584</td>\n",
       "    </tr>\n",
       "  </tbody>\n",
       "</table>\n",
       "<p>202 rows × 3 columns</p>\n",
       "</div>"
      ],
      "text/plain": [
       "         Sex  Single Year of Age  VALUE\n",
       "3296    Male                   0  29610\n",
       "3328    Male                   1  28875\n",
       "3360    Male                   2  30236\n",
       "3392    Male                   3  31001\n",
       "3424    Male                   4  31686\n",
       "...      ...                 ...    ...\n",
       "9632  Female                  96    956\n",
       "9664  Female                  97    732\n",
       "9696  Female                  98    492\n",
       "9728  Female                  99    336\n",
       "9760  Female                 100    584\n",
       "\n",
       "[202 rows x 3 columns]"
      ]
     },
     "execution_count": 9,
     "metadata": {},
     "output_type": "execute_result"
    }
   ],
   "source": [
    "df"
   ]
  },
  {
   "cell_type": "code",
   "execution_count": 10,
   "id": "7d67957c",
   "metadata": {},
   "outputs": [
    {
     "data": {
      "text/html": [
       "<div>\n",
       "<style scoped>\n",
       "    .dataframe tbody tr th:only-of-type {\n",
       "        vertical-align: middle;\n",
       "    }\n",
       "\n",
       "    .dataframe tbody tr th {\n",
       "        vertical-align: top;\n",
       "    }\n",
       "\n",
       "    .dataframe thead th {\n",
       "        text-align: right;\n",
       "    }\n",
       "</style>\n",
       "<table border=\"1\" class=\"dataframe\">\n",
       "  <thead>\n",
       "    <tr style=\"text-align: right;\">\n",
       "      <th></th>\n",
       "      <th>VALUE</th>\n",
       "    </tr>\n",
       "    <tr>\n",
       "      <th>Single Year of Age</th>\n",
       "      <th></th>\n",
       "    </tr>\n",
       "  </thead>\n",
       "  <tbody>\n",
       "    <tr>\n",
       "      <th>0</th>\n",
       "      <td>29610</td>\n",
       "    </tr>\n",
       "    <tr>\n",
       "      <th>1</th>\n",
       "      <td>28875</td>\n",
       "    </tr>\n",
       "    <tr>\n",
       "      <th>2</th>\n",
       "      <td>30236</td>\n",
       "    </tr>\n",
       "    <tr>\n",
       "      <th>3</th>\n",
       "      <td>31001</td>\n",
       "    </tr>\n",
       "    <tr>\n",
       "      <th>4</th>\n",
       "      <td>31686</td>\n",
       "    </tr>\n",
       "  </tbody>\n",
       "</table>\n",
       "</div>"
      ],
      "text/plain": [
       "                    VALUE\n",
       "Single Year of Age       \n",
       "0                   29610\n",
       "1                   28875\n",
       "2                   30236\n",
       "3                   31001\n",
       "4                   31686"
      ]
     },
     "execution_count": 10,
     "metadata": {},
     "output_type": "execute_result"
    }
   ],
   "source": [
    "df_male = df[df['Sex'] == 'Male'].drop(columns=['Sex']).set_index('Single Year of Age')\n",
    "df_female = df[df['Sex'] == 'Female'].drop(columns=['Sex']).set_index('Single Year of Age')\n",
    "df_male.head()"
   ]
  },
  {
   "cell_type": "code",
   "execution_count": 11,
   "id": "3cd22837",
   "metadata": {},
   "outputs": [
    {
     "data": {
      "text/plain": [
       "<Axes: title={'center': 'Population Differences, Male = Positive'}, xlabel='Single Year of Age'>"
      ]
     },
     "execution_count": 11,
     "metadata": {},
     "output_type": "execute_result"
    },
    {
     "data": {
      "image/png": "[encoded data removed]",
      "text/plain": [
       "<Figure size 1500x500 with 1 Axes>"
      ]
     },
     "metadata": {},
     "output_type": "display_data"
    }
   ],
   "source": [
    "differences = df_male['VALUE'] - df_female['VALUE']\n",
    "differences.plot(kind='bar', figsize=(15, 5), title='Population Differences, Male = Positive')"
   ]
  },
  {
   "cell_type": "code",
   "execution_count": 12,
   "id": "00fc903d",
   "metadata": {},
   "outputs": [
    {
     "name": "stdout",
     "output_type": "stream",
     "text": [
      "Difference in male and female population: 60041\n"
     ]
    }
   ],
   "source": [
    "print(f'Difference in male and female population: \\\n",
    "{abs((df_female.sum() - df_male.sum())[\"VALUE\"])}')"
   ]
  },
  {
   "cell_type": "code",
   "execution_count": 13,
   "id": "45125b2e",
   "metadata": {},
   "outputs": [
    {
     "name": "stdout",
     "output_type": "stream",
     "text": [
      "Average age of males in Ireland: 37.7394477371039\n"
     ]
    }
   ],
   "source": [
    "male_mean = np.average(df_male.index, weights=df_male['VALUE'])\n",
    "print(f'Average age of males in Ireland: {male_mean}')"
   ]
  },
  {
   "cell_type": "code",
   "execution_count": 14,
   "id": "a131244e",
   "metadata": {},
   "outputs": [
    {
     "name": "stdout",
     "output_type": "stream",
     "text": [
      "Average age of females in Ireland: 38.9397958987787\n"
     ]
    }
   ],
   "source": [
    "female_mean = np.average(df_female.index, weights=df_female['VALUE'])\n",
    "print(f'Average age of females in Ireland: {female_mean}')"
   ]
  },
  {
   "cell_type": "markdown",
   "id": "46d1cd1d",
   "metadata": {},
   "source": [
    "# Part 2:"
   ]
  },
  {
   "cell_type": "code",
   "execution_count": 15,
   "id": "c3a885c3",
   "metadata": {},
   "outputs": [],
   "source": [
    "target_age = 35\n",
    "age_max = target_age + 5\n",
    "age_min = target_age - 6"
   ]
  },
  {
   "cell_type": "code",
   "execution_count": 16,
   "id": "9e291394",
   "metadata": {},
   "outputs": [
    {
     "data": {
      "text/html": [
       "<div>\n",
       "<style scoped>\n",
       "    .dataframe tbody tr th:only-of-type {\n",
       "        vertical-align: middle;\n",
       "    }\n",
       "\n",
       "    .dataframe tbody tr th {\n",
       "        vertical-align: top;\n",
       "    }\n",
       "\n",
       "    .dataframe thead th {\n",
       "        text-align: right;\n",
       "    }\n",
       "</style>\n",
       "<table border=\"1\" class=\"dataframe\">\n",
       "  <thead>\n",
       "    <tr style=\"text-align: right;\">\n",
       "      <th></th>\n",
       "      <th>VALUE</th>\n",
       "      <th>Target</th>\n",
       "    </tr>\n",
       "    <tr>\n",
       "      <th>Single Year of Age</th>\n",
       "      <th></th>\n",
       "      <th></th>\n",
       "    </tr>\n",
       "  </thead>\n",
       "  <tbody>\n",
       "    <tr>\n",
       "      <th>25</th>\n",
       "      <td>29969</td>\n",
       "      <td>Below</td>\n",
       "    </tr>\n",
       "    <tr>\n",
       "      <th>26</th>\n",
       "      <td>29376</td>\n",
       "      <td>Below</td>\n",
       "    </tr>\n",
       "    <tr>\n",
       "      <th>27</th>\n",
       "      <td>29162</td>\n",
       "      <td>Below</td>\n",
       "    </tr>\n",
       "    <tr>\n",
       "      <th>28</th>\n",
       "      <td>28902</td>\n",
       "      <td>Below</td>\n",
       "    </tr>\n",
       "    <tr>\n",
       "      <th>29</th>\n",
       "      <td>29989</td>\n",
       "      <td>Below</td>\n",
       "    </tr>\n",
       "    <tr>\n",
       "      <th>30</th>\n",
       "      <td>30858</td>\n",
       "      <td>Target</td>\n",
       "    </tr>\n",
       "    <tr>\n",
       "      <th>31</th>\n",
       "      <td>32237</td>\n",
       "      <td>Target</td>\n",
       "    </tr>\n",
       "    <tr>\n",
       "      <th>32</th>\n",
       "      <td>32413</td>\n",
       "      <td>Target</td>\n",
       "    </tr>\n",
       "    <tr>\n",
       "      <th>33</th>\n",
       "      <td>31888</td>\n",
       "      <td>Target</td>\n",
       "    </tr>\n",
       "    <tr>\n",
       "      <th>34</th>\n",
       "      <td>33121</td>\n",
       "      <td>Target</td>\n",
       "    </tr>\n",
       "    <tr>\n",
       "      <th>35</th>\n",
       "      <td>34695</td>\n",
       "      <td>Target</td>\n",
       "    </tr>\n",
       "    <tr>\n",
       "      <th>36</th>\n",
       "      <td>35828</td>\n",
       "      <td>Target</td>\n",
       "    </tr>\n",
       "    <tr>\n",
       "      <th>37</th>\n",
       "      <td>36427</td>\n",
       "      <td>Target</td>\n",
       "    </tr>\n",
       "    <tr>\n",
       "      <th>38</th>\n",
       "      <td>37513</td>\n",
       "      <td>Target</td>\n",
       "    </tr>\n",
       "    <tr>\n",
       "      <th>39</th>\n",
       "      <td>38749</td>\n",
       "      <td>Target</td>\n",
       "    </tr>\n",
       "    <tr>\n",
       "      <th>40</th>\n",
       "      <td>40301</td>\n",
       "      <td>Target</td>\n",
       "    </tr>\n",
       "    <tr>\n",
       "      <th>41</th>\n",
       "      <td>41401</td>\n",
       "      <td>Above</td>\n",
       "    </tr>\n",
       "    <tr>\n",
       "      <th>42</th>\n",
       "      <td>41644</td>\n",
       "      <td>Above</td>\n",
       "    </tr>\n",
       "    <tr>\n",
       "      <th>43</th>\n",
       "      <td>39275</td>\n",
       "      <td>Above</td>\n",
       "    </tr>\n",
       "    <tr>\n",
       "      <th>44</th>\n",
       "      <td>37940</td>\n",
       "      <td>Above</td>\n",
       "    </tr>\n",
       "    <tr>\n",
       "      <th>45</th>\n",
       "      <td>37710</td>\n",
       "      <td>Above</td>\n",
       "    </tr>\n",
       "  </tbody>\n",
       "</table>\n",
       "</div>"
      ],
      "text/plain": [
       "                    VALUE  Target\n",
       "Single Year of Age               \n",
       "25                  29969   Below\n",
       "26                  29376   Below\n",
       "27                  29162   Below\n",
       "28                  28902   Below\n",
       "29                  29989   Below\n",
       "30                  30858  Target\n",
       "31                  32237  Target\n",
       "32                  32413  Target\n",
       "33                  31888  Target\n",
       "34                  33121  Target\n",
       "35                  34695  Target\n",
       "36                  35828  Target\n",
       "37                  36427  Target\n",
       "38                  37513  Target\n",
       "39                  38749  Target\n",
       "40                  40301  Target\n",
       "41                  41401   Above\n",
       "42                  41644   Above\n",
       "43                  39275   Above\n",
       "44                  37940   Above\n",
       "45                  37710   Above"
      ]
     },
     "execution_count": 16,
     "metadata": {},
     "output_type": "execute_result"
    }
   ],
   "source": [
    "df_male['Target'] = pd.cut(df_male.index, bins=[-1, age_min, age_max, 100],\n",
    "                        labels=['Below', 'Target', 'Above'])\n",
    "df_female['Target'] = pd.cut(df_female.index, bins=[-1, age_min, age_max, 100],\n",
    "                        labels=['Below', 'Target', 'Above'])\n",
    "df_male.iloc[25:46]"
   ]
  },
  {
   "cell_type": "code",
   "execution_count": 17,
   "id": "f110e9c4",
   "metadata": {},
   "outputs": [],
   "source": [
    "total_target_male = df_male.groupby('Target', observed=False).sum()['VALUE']['Target']\n",
    "total_target_female = df_female.groupby('Target', observed=False).sum()['VALUE']['Target']\n"
   ]
  },
  {
   "cell_type": "code",
   "execution_count": 18,
   "id": "a8a41d7f",
   "metadata": {},
   "outputs": [
    {
     "name": "stdout",
     "output_type": "stream",
     "text": [
      "Difference in population aged 35 ± 5 years: 30476\n"
     ]
    }
   ],
   "source": [
    "print(f'Difference in population aged {target_age} ± 5 years: \\\n",
    "{abs(total_target_female - total_target_male)}')"
   ]
  },
  {
   "cell_type": "markdown",
   "id": "71a19e14",
   "metadata": {},
   "source": [
    "# Part 3:"
   ]
  },
  {
   "cell_type": "code",
   "execution_count": 19,
   "id": "6573417b",
   "metadata": {},
   "outputs": [],
   "source": [
    "import warnings\n",
    "warnings.filterwarnings(\"ignore\", category=UserWarning)"
   ]
  },
  {
   "cell_type": "code",
   "execution_count": 20,
   "id": "17a788e4",
   "metadata": {},
   "outputs": [],
   "source": [
    "df = pd.read_csv(url)\n",
    "df.drop(columns=drop_columns, inplace=True)\n",
    "df = df[df['Sex'] != 'Both sexes']\n",
    "df = df[df['Single Year of Age'] != 'All ages']\n",
    "df['Single Year of Age'] = df['Single Year of Age'].replace('Under 1 year', '0', regex=True)\n",
    "df['Single Year of Age'] = df['Single Year of Age'].str.replace('\\\\D', '', regex=True)\n",
    "df['Single Year of Age'] = pd.to_numeric(df['Single Year of Age'])\n",
    "df['VALUE'] = pd.to_numeric(df['VALUE'])\n",
    "df['Single Year of Age'] = pd.to_numeric(df['Single Year of Age'])  "
   ]
  },
  {
   "cell_type": "code",
   "execution_count": 21,
   "id": "f771311d",
   "metadata": {},
   "outputs": [],
   "source": [
    "target_age = 35\n",
    "age_max = target_age + 5\n",
    "age_min = target_age -6\n",
    "grouped_difference_by_district = {}\n",
    "\n",
    "for district in df['Administrative Counties'].unique():\n",
    "    df_district_male = df[df['Administrative Counties'] == district][df['Sex'] == 'Male']\n",
    "    df_district_female = df[df['Administrative Counties'] == district][df['Sex'] == 'Female']\n",
    "    df_district_male['Target'] = pd.cut(df_district_male['Single Year of Age'],\n",
    "                                    bins=[-1, age_min, age_max, 100],\n",
    "                                    labels=['Below', 'Target', 'Above'])\n",
    "    df_district_female['Target'] = pd.cut(df_district_female['Single Year of Age'],\n",
    "                                    bins=[-1, age_min, age_max, 100],\n",
    "                                    labels=['Below', 'Target', 'Above'])\n",
    "    total_district_grouped_male = df_district_male.groupby('Target',\n",
    "                                    observed=True).sum()['VALUE']['Target']\n",
    "    total_district_grouped_female = df_district_female.groupby('Target', \n",
    "                                    observed=True).sum()['VALUE']['Target']\n",
    "    difference = abs(total_district_grouped_female - total_district_grouped_male)\n",
    "    grouped_difference_by_district[district] = difference"
   ]
  },
  {
   "cell_type": "code",
   "execution_count": 22,
   "id": "409bf60b",
   "metadata": {},
   "outputs": [
    {
     "data": {
      "text/plain": [
       "30476"
      ]
     },
     "execution_count": 22,
     "metadata": {},
     "output_type": "execute_result"
    }
   ],
   "source": [
    "grouped_difference_by_district.pop('Ireland', None)"
   ]
  },
  {
   "cell_type": "code",
   "execution_count": 23,
   "id": "f2d5419e",
   "metadata": {},
   "outputs": [
    {
     "data": {
      "text/plain": [
       "{'Carlow County Council': 323,\n",
       " 'Dublin City Council': 1036,\n",
       " 'Dún Laoghaire Rathdown County Council': 1376,\n",
       " 'Fingal County Council': 2942,\n",
       " 'South Dublin County Council': 2724,\n",
       " 'Kildare County Council': 1931,\n",
       " 'Kilkenny County Council': 507,\n",
       " 'Laois County Council': 521,\n",
       " 'Longford County Council': 337,\n",
       " 'Louth County Council': 1101,\n",
       " 'Meath County Council': 1734,\n",
       " 'Offaly County Council': 415,\n",
       " 'Westmeath County Council': 541,\n",
       " 'Wexford County Council': 1338,\n",
       " 'Wicklow County Council': 1605,\n",
       " 'Clare County Council': 811,\n",
       " 'Cork City Council': 938,\n",
       " 'Cork County Council': 2839,\n",
       " 'Kerry County Council': 1168,\n",
       " 'Limerick City & County Council': 848,\n",
       " 'Tipperary County Council': 1100,\n",
       " 'Waterford City & County Council': 845,\n",
       " 'Galway City Council': 494,\n",
       " 'Galway County Council': 1483,\n",
       " 'Leitrim County Council': 297,\n",
       " 'Mayo  County Council': 718,\n",
       " 'Roscommon County Council': 355,\n",
       " 'Sligo County Council': 467,\n",
       " 'Cavan County Council': 374,\n",
       " 'Donegal County Council': 1079,\n",
       " 'Monaghan County Council': 301}"
      ]
     },
     "execution_count": 23,
     "metadata": {},
     "output_type": "execute_result"
    }
   ],
   "source": [
    "grouped_difference_by_district"
   ]
  },
  {
   "cell_type": "code",
   "execution_count": 24,
   "id": "c1d04a33",
   "metadata": {},
   "outputs": [
    {
     "name": "stdout",
     "output_type": "stream",
     "text": [
      "The county with the biggest difference between sexes in target group: Fingal County Council \n",
      "With a difference of: 2942\n"
     ]
    }
   ],
   "source": [
    "county = max(grouped_difference_by_district, key=grouped_difference_by_district.get)\n",
    "print(f'The county with the biggest difference between sexes in target group: {county} \\\n",
    "\\nWith a difference of: {grouped_difference_by_district[county]}')"
   ]
  }
 ],
 "metadata": {
  "kernelspec": {
   "display_name": "base",
   "language": "python",
   "name": "python3"
  },
  "language_info": {
   "codemirror_mode": {
    "name": "ipython",
    "version": 3
   },
   "file_extension": ".py",
   "mimetype": "text/x-python",
   "name": "python",
   "nbconvert_exporter": "python",
   "pygments_lexer": "ipython3",
   "version": "3.12.7"
  }
 },
 "nbformat": 4,
 "nbformat_minor": 5
}
